{
  "nbformat": 4,
  "nbformat_minor": 0,
  "metadata": {
    "colab": {
      "provenance": []
    },
    "kernelspec": {
      "name": "python3",
      "display_name": "Python 3"
    },
    "language_info": {
      "name": "python"
    }
  },
  "cells": [
    {
      "cell_type": "code",
      "execution_count": 1,
      "metadata": {
        "colab": {
          "base_uri": "https://localhost:8080/"
        },
        "id": "bBuvFw-oyQB6",
        "outputId": "63b4777b-6bc7-4406-ab18-006bb023dfc9"
      },
      "outputs": [
        {
          "output_type": "stream",
          "name": "stdout",
          "text": [
            "Downloading data from https://storage.googleapis.com/tensorflow/tf-keras-datasets/mnist.npz\n",
            "11490434/11490434 [==============================] - 0s 0us/step\n",
            "Epoch 1/5\n",
            "1875/1875 [==============================] - 13s 6ms/step - loss: 0.2953 - accuracy: 0.9185 - val_loss: 0.1481 - val_accuracy: 0.9553\n",
            "Epoch 2/5\n",
            "1875/1875 [==============================] - 7s 4ms/step - loss: 0.1093 - accuracy: 0.9668 - val_loss: 0.1111 - val_accuracy: 0.9654\n",
            "Epoch 3/5\n",
            "1875/1875 [==============================] - 8s 4ms/step - loss: 0.0744 - accuracy: 0.9771 - val_loss: 0.0850 - val_accuracy: 0.9741\n",
            "Epoch 4/5\n",
            "1875/1875 [==============================] - 8s 4ms/step - loss: 0.0541 - accuracy: 0.9835 - val_loss: 0.0826 - val_accuracy: 0.9745\n",
            "Epoch 5/5\n",
            "1875/1875 [==============================] - 7s 4ms/step - loss: 0.0434 - accuracy: 0.9870 - val_loss: 0.0812 - val_accuracy: 0.9766\n",
            "313/313 [==============================] - 1s 2ms/step - loss: 0.0812 - accuracy: 0.9766\n",
            "Test accuracy: 0.9765999913215637\n"
          ]
        }
      ],
      "source": [
        "import tensorflow as tf\n",
        "from tensorflow.keras import layers, models, datasets\n",
        "\n",
        "# Load and preprocess the data\n",
        "(X_train, y_train), (X_test, y_test) = datasets.mnist.load_data()\n",
        "X_train, X_test = X_train / 255.0, X_test / 255.0\n",
        "\n",
        "# Flatten the input data\n",
        "flatten_layer = layers.Flatten(input_shape=X_train[0].shape)\n",
        "X_train_flat = flatten_layer(X_train)\n",
        "X_test_flat = flatten_layer(X_test)\n",
        "\n",
        "# model\n",
        "model = models.Sequential([\n",
        "    flatten_layer,\n",
        "    layers.Dense(128, activation='relu'),\n",
        "    layers.Dense(64, activation='sigmoid'),\n",
        "    layers.Dense(32, activation='tanh'),\n",
        "    layers.Dense(10, activation='softmax')\n",
        "])\n",
        "\n",
        "model.compile(optimizer='adam',\n",
        "              loss='sparse_categorical_crossentropy',\n",
        "              metrics=['accuracy'])\n",
        "\n",
        "# Training\n",
        "history = model.fit(X_train, y_train, epochs=5, validation_data=(X_test, y_test))\n",
        "\n",
        "# Evaluation\n",
        "test_loss, test_acc = model.evaluate(X_test_flat, y_test)\n",
        "print(f'Test accuracy: {test_acc}')\n"
      ]
    },
    {
      "cell_type": "code",
      "source": [],
      "metadata": {
        "id": "kDQivIXZyepZ"
      },
      "execution_count": null,
      "outputs": []
    }
  ]
}